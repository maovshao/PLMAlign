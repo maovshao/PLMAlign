{
 "cells": [
  {
   "cell_type": "markdown",
   "metadata": {},
   "source": [
    "<h1>Malisam Benchmark</h1>"
   ]
  },
  {
   "cell_type": "code",
   "execution_count": 1,
   "metadata": {},
   "outputs": [
    {
     "name": "stderr",
     "output_type": "stream",
     "text": [
      "/home/lw/anaconda3/envs/plmblast/lib/python3.9/site-packages/Bio/SubsMat/__init__.py:126: BiopythonDeprecationWarning: Bio.SubsMat has been deprecated, and we intend to remove it in a future release of Biopython. As an alternative, please consider using Bio.Align.substitution_matrices as a replacement, and contact the Biopython developers if you still need the Bio.SubsMat module.\n",
      "  warnings.warn(\n"
     ]
    }
   ],
   "source": [
    "import pandas as pd\n",
    "import numpy as np\n",
    "import seaborn as sns\n",
    "from scipy.stats import sem\n",
    "from Bio import pairwise2\n",
    "from Bio.SubsMat import MatrixInfo as matlist\n",
    "\n",
    "import matplotlib.pyplot as plt\n",
    "%matplotlib inline\n",
    "\n",
    "from plmalign.dataset.score import alignment_score, score_global_alignment, score_local_alignment\n",
    "from plmalign.dataset.parse_mali import read_mali, read_mali_mammoth\n",
    "\n",
    "from plmalign.dataset.utils import revstate_f, state_f\n",
    "matrix = matlist.blosum62\n",
    "def nw_f(x, y):\n",
    "    alignments = pairwise2.align.globaldx(x, y, matrix)\n",
    "    states = list(map(state_f, zip(list(alignments[0].seqA), list(alignments[0].seqB))))\n",
    "    states = ''.join(list(map(revstate_f, states)))\n",
    "    return states\n",
    "\n",
    "def sw_f(x, y):\n",
    "    alignments = pairwise2.align.localdx(x, y, matrix)\n",
    "    states = list(map(state_f, zip(list(alignments[0][0]), list(alignments[0][1]))))\n",
    "    states = ''.join(list(map(revstate_f, states)))\n",
    "    return states"
   ]
  },
  {
   "cell_type": "code",
   "execution_count": 2,
   "metadata": {},
   "outputs": [],
   "source": [
    "malisam_root = './data/alignment_benchmark/malisam'\n",
    "\n",
    "mammoth_sam_root = './data/alignment_benchmark/mammoth/malisam'\n",
    "\n",
    "mali_root = malisam_root\n",
    "mali_mammoth = mammoth_sam_root\n",
    "benchmark = 'malisam'"
   ]
  },
  {
   "cell_type": "markdown",
   "metadata": {},
   "source": [
    "<h3>Load manual alignment</h3>\n",
    "<h3>Smith-Waterman and Needleman-Wunsch</h3>"
   ]
  },
  {
   "cell_type": "code",
   "execution_count": 3,
   "metadata": {},
   "outputs": [],
   "source": [
    "# Load manual alignment\n",
    "mammoth = read_mali_mammoth(mali_mammoth, report_ids=True)\n",
    "manual = read_mali(mali_root, tool='manual', report_ids=True)\n",
    "res = pd.merge(manual, mammoth, left_on='dir', right_on='pdb')\n",
    "res = res[['0_x', '1_x', '2_x', '2_y', 'dir']]\n",
    "res = res.rename(columns={'0_x' : 0, '1_x' : 1, '2_x' : 'manual', '2_y': 'mammoth'})\n",
    "res = res[~res.set_index([0, 1]).index.duplicated(keep='first')]\n",
    "res = res.set_index([0, 1])\n",
    "coded = pd.read_csv('./data/alignment_benchmark/pdblistsam.csv', index_col=0)\n",
    "res = pd.merge(res, coded, left_on='dir', right_index=True)\n",
    "\n",
    "#Smith-Waterman and Needleman-Wunsch\n",
    "sw     = res.reset_index().apply(lambda x: sw_f(x[0], x[1]), axis=1)\n",
    "res['smith-waterman'] = sw.values\n",
    "\n",
    "nw     = res.reset_index().apply(lambda x: nw_f(x[0], x[1]), axis=1)\n",
    "res['needleman-wunsch'] = nw.values"
   ]
  },
  {
   "cell_type": "markdown",
   "metadata": {},
   "source": [
    "<h3>Gnenrate ESM-1b & ProtT5 embedding</h3>"
   ]
  },
  {
   "cell_type": "code",
   "execution_count": 4,
   "metadata": {},
   "outputs": [
    {
     "name": "stdout",
     "output_type": "stream",
     "text": [
      "233\n"
     ]
    },
    {
     "name": "stderr",
     "output_type": "stream",
     "text": [
      "/home/lw/anaconda3/envs/plmblast/lib/python3.9/site-packages/tqdm/auto.py:21: TqdmWarning: IProgress not found. Please update jupyter and ipywidgets. See https://ipywidgets.readthedocs.io/en/stable/user_install.html\n",
      "  from .autonotebook import tqdm as notebook_tqdm\n"
     ]
    },
    {
     "name": "stdout",
     "output_type": "stream",
     "text": [
      "Using device: cuda:0\n",
      "##########################\n",
      "Loading cached model from: data/model/Rostlab/prot_t5_xl_uniref50/\n",
      "##########################\n"
     ]
    },
    {
     "name": "stderr",
     "output_type": "stream",
     "text": [
      "Some weights of the model checkpoint at data/model/Rostlab/prot_t5_xl_uniref50/ were not used when initializing T5EncoderModel: ['decoder.block.0.layer.1.EncDecAttention.k.weight', 'decoder.block.11.layer.0.SelfAttention.o.weight', 'decoder.block.18.layer.0.SelfAttention.q.weight', 'decoder.block.12.layer.0.layer_norm.weight', 'decoder.block.14.layer.2.DenseReluDense.wo.weight', 'decoder.block.9.layer.0.layer_norm.weight', 'decoder.block.12.layer.2.DenseReluDense.wo.weight', 'decoder.block.4.layer.1.EncDecAttention.q.weight', 'decoder.block.8.layer.2.layer_norm.weight', 'decoder.block.10.layer.0.SelfAttention.k.weight', 'decoder.block.4.layer.2.DenseReluDense.wi.weight', 'decoder.block.12.layer.0.SelfAttention.o.weight', 'decoder.block.20.layer.0.SelfAttention.k.weight', 'decoder.block.11.layer.2.DenseReluDense.wo.weight', 'decoder.block.5.layer.0.layer_norm.weight', 'decoder.block.12.layer.1.EncDecAttention.k.weight', 'decoder.block.5.layer.1.EncDecAttention.v.weight', 'decoder.block.5.layer.1.EncDecAttention.o.weight', 'decoder.block.19.layer.1.EncDecAttention.k.weight', 'decoder.block.16.layer.0.SelfAttention.o.weight', 'decoder.block.6.layer.0.SelfAttention.o.weight', 'decoder.block.9.layer.0.SelfAttention.k.weight', 'decoder.block.17.layer.1.EncDecAttention.q.weight', 'decoder.block.9.layer.0.SelfAttention.q.weight', 'decoder.block.7.layer.1.layer_norm.weight', 'decoder.block.19.layer.0.SelfAttention.o.weight', 'decoder.block.15.layer.0.SelfAttention.o.weight', 'decoder.block.3.layer.2.DenseReluDense.wi.weight', 'decoder.block.11.layer.1.EncDecAttention.v.weight', 'decoder.block.13.layer.1.EncDecAttention.k.weight', 'decoder.block.1.layer.1.EncDecAttention.k.weight', 'decoder.block.8.layer.1.EncDecAttention.k.weight', 'decoder.block.11.layer.0.SelfAttention.k.weight', 'decoder.block.8.layer.1.EncDecAttention.q.weight', 'decoder.block.4.layer.0.SelfAttention.o.weight', 'decoder.block.13.layer.0.SelfAttention.k.weight', 'decoder.block.2.layer.2.DenseReluDense.wo.weight', 'decoder.block.9.layer.1.EncDecAttention.v.weight', 'decoder.block.5.layer.0.SelfAttention.k.weight', 'decoder.block.10.layer.0.SelfAttention.v.weight', 'decoder.block.19.layer.1.EncDecAttention.o.weight', 'decoder.block.5.layer.0.SelfAttention.q.weight', 'decoder.block.11.layer.1.layer_norm.weight', 'decoder.block.15.layer.1.EncDecAttention.k.weight', 'decoder.block.18.layer.0.SelfAttention.k.weight', 'decoder.block.17.layer.1.layer_norm.weight', 'decoder.block.18.layer.1.EncDecAttention.v.weight', 'decoder.block.18.layer.0.SelfAttention.o.weight', 'decoder.block.19.layer.0.SelfAttention.v.weight', 'decoder.block.0.layer.1.EncDecAttention.v.weight', 'decoder.block.5.layer.0.SelfAttention.o.weight', 'decoder.block.7.layer.0.SelfAttention.o.weight', 'decoder.block.17.layer.2.DenseReluDense.wo.weight', 'decoder.block.8.layer.1.EncDecAttention.o.weight', 'decoder.block.5.layer.2.DenseReluDense.wi.weight', 'decoder.block.19.layer.1.EncDecAttention.v.weight', 'decoder.block.23.layer.2.DenseReluDense.wo.weight', 'decoder.block.17.layer.1.EncDecAttention.o.weight', 'decoder.block.14.layer.2.DenseReluDense.wi.weight', 'decoder.block.0.layer.0.layer_norm.weight', 'decoder.block.4.layer.2.layer_norm.weight', 'decoder.block.17.layer.2.DenseReluDense.wi.weight', 'decoder.embed_tokens.weight', 'decoder.block.4.layer.0.SelfAttention.q.weight', 'decoder.block.18.layer.2.layer_norm.weight', 'decoder.block.6.layer.1.layer_norm.weight', 'decoder.block.22.layer.2.layer_norm.weight', 'decoder.block.16.layer.1.EncDecAttention.q.weight', 'decoder.block.11.layer.2.DenseReluDense.wi.weight', 'decoder.block.3.layer.1.layer_norm.weight', 'decoder.block.21.layer.1.EncDecAttention.q.weight', 'decoder.block.11.layer.0.SelfAttention.q.weight', 'decoder.block.15.layer.1.EncDecAttention.q.weight', 'decoder.block.14.layer.2.layer_norm.weight', 'decoder.block.23.layer.2.layer_norm.weight', 'decoder.block.19.layer.0.layer_norm.weight', 'decoder.block.10.layer.1.EncDecAttention.v.weight', 'decoder.block.8.layer.0.layer_norm.weight', 'decoder.block.12.layer.1.EncDecAttention.v.weight', 'decoder.block.14.layer.0.SelfAttention.q.weight', 'decoder.block.18.layer.2.DenseReluDense.wo.weight', 'decoder.block.3.layer.0.SelfAttention.o.weight', 'decoder.block.6.layer.1.EncDecAttention.v.weight', 'decoder.block.7.layer.0.SelfAttention.v.weight', 'decoder.block.1.layer.0.SelfAttention.q.weight', 'decoder.block.23.layer.1.EncDecAttention.k.weight', 'decoder.block.22.layer.1.EncDecAttention.q.weight', 'decoder.block.21.layer.2.layer_norm.weight', 'decoder.block.13.layer.1.EncDecAttention.o.weight', 'decoder.block.0.layer.0.SelfAttention.relative_attention_bias.weight', 'decoder.block.16.layer.1.layer_norm.weight', 'decoder.block.10.layer.0.layer_norm.weight', 'decoder.block.23.layer.2.DenseReluDense.wi.weight', 'decoder.block.19.layer.1.layer_norm.weight', 'decoder.block.20.layer.1.EncDecAttention.o.weight', 'decoder.block.9.layer.2.DenseReluDense.wi.weight', 'decoder.block.0.layer.2.DenseReluDense.wi.weight', 'decoder.block.10.layer.1.EncDecAttention.q.weight', 'decoder.block.17.layer.1.EncDecAttention.v.weight', 'decoder.block.2.layer.2.DenseReluDense.wi.weight', 'decoder.block.22.layer.0.SelfAttention.q.weight', 'decoder.block.7.layer.1.EncDecAttention.v.weight', 'decoder.block.6.layer.2.DenseReluDense.wo.weight', 'decoder.block.14.layer.1.EncDecAttention.k.weight', 'decoder.block.12.layer.2.DenseReluDense.wi.weight', 'decoder.block.2.layer.2.layer_norm.weight', 'decoder.block.14.layer.1.layer_norm.weight', 'decoder.block.22.layer.0.SelfAttention.k.weight', 'decoder.block.16.layer.0.SelfAttention.v.weight', 'decoder.block.5.layer.1.EncDecAttention.q.weight', 'decoder.block.3.layer.1.EncDecAttention.o.weight', 'decoder.block.6.layer.1.EncDecAttention.o.weight', 'decoder.block.21.layer.1.EncDecAttention.o.weight', 'decoder.block.1.layer.2.layer_norm.weight', 'decoder.block.14.layer.0.layer_norm.weight', 'decoder.block.15.layer.1.EncDecAttention.v.weight', 'decoder.block.0.layer.1.EncDecAttention.q.weight', 'decoder.block.23.layer.0.layer_norm.weight', 'decoder.block.9.layer.0.SelfAttention.v.weight', 'decoder.block.4.layer.1.layer_norm.weight', 'decoder.block.18.layer.2.DenseReluDense.wi.weight', 'decoder.block.15.layer.2.DenseReluDense.wi.weight', 'decoder.block.3.layer.0.layer_norm.weight', 'decoder.block.17.layer.2.layer_norm.weight', 'decoder.block.5.layer.1.layer_norm.weight', 'decoder.block.23.layer.1.EncDecAttention.q.weight', 'decoder.block.23.layer.1.EncDecAttention.v.weight', 'decoder.block.19.layer.2.DenseReluDense.wo.weight', 'decoder.block.18.layer.0.layer_norm.weight', 'decoder.block.19.layer.1.EncDecAttention.q.weight', 'decoder.block.4.layer.2.DenseReluDense.wo.weight', 'decoder.block.20.layer.1.EncDecAttention.q.weight', 'decoder.block.18.layer.1.EncDecAttention.o.weight', 'decoder.block.1.layer.2.DenseReluDense.wi.weight', 'decoder.block.16.layer.1.EncDecAttention.o.weight', 'decoder.block.9.layer.1.layer_norm.weight', 'decoder.block.1.layer.2.DenseReluDense.wo.weight', 'decoder.block.13.layer.1.EncDecAttention.q.weight', 'decoder.block.6.layer.2.DenseReluDense.wi.weight', 'decoder.block.12.layer.1.EncDecAttention.q.weight', 'decoder.block.8.layer.2.DenseReluDense.wi.weight', 'decoder.block.9.layer.1.EncDecAttention.k.weight', 'decoder.block.22.layer.1.EncDecAttention.o.weight', 'decoder.block.4.layer.0.layer_norm.weight', 'decoder.block.7.layer.0.SelfAttention.q.weight', 'decoder.block.13.layer.0.layer_norm.weight', 'decoder.block.1.layer.1.layer_norm.weight', 'decoder.block.12.layer.0.SelfAttention.v.weight', 'decoder.block.10.layer.2.layer_norm.weight', 'decoder.block.7.layer.2.layer_norm.weight', 'decoder.block.0.layer.1.EncDecAttention.o.weight', 'decoder.block.8.layer.0.SelfAttention.k.weight', 'decoder.block.7.layer.0.layer_norm.weight', 'decoder.block.11.layer.0.SelfAttention.v.weight', 'decoder.block.19.layer.2.layer_norm.weight', 'decoder.block.6.layer.1.EncDecAttention.k.weight', 'decoder.block.15.layer.0.layer_norm.weight', 'decoder.block.22.layer.2.DenseReluDense.wo.weight', 'decoder.block.17.layer.1.EncDecAttention.k.weight', 'decoder.block.8.layer.0.SelfAttention.o.weight', 'decoder.block.2.layer.1.layer_norm.weight', 'decoder.block.3.layer.1.EncDecAttention.q.weight', 'decoder.block.23.layer.1.layer_norm.weight', 'decoder.block.12.layer.1.EncDecAttention.o.weight', 'decoder.block.4.layer.1.EncDecAttention.o.weight', 'decoder.block.13.layer.2.layer_norm.weight', 'decoder.block.11.layer.1.EncDecAttention.q.weight', 'decoder.block.21.layer.1.EncDecAttention.v.weight', 'decoder.block.9.layer.1.EncDecAttention.o.weight', 'decoder.block.16.layer.0.SelfAttention.q.weight', 'decoder.block.10.layer.2.DenseReluDense.wo.weight', 'decoder.block.0.layer.0.SelfAttention.k.weight', 'decoder.block.8.layer.2.DenseReluDense.wo.weight', 'decoder.block.19.layer.2.DenseReluDense.wi.weight', 'decoder.block.1.layer.0.SelfAttention.v.weight', 'decoder.block.8.layer.0.SelfAttention.q.weight', 'decoder.block.20.layer.0.SelfAttention.o.weight', 'decoder.block.18.layer.1.EncDecAttention.q.weight', 'decoder.block.1.layer.0.SelfAttention.k.weight', 'decoder.block.12.layer.0.SelfAttention.k.weight', 'decoder.block.23.layer.0.SelfAttention.q.weight', 'decoder.block.17.layer.0.SelfAttention.q.weight', 'decoder.block.23.layer.0.SelfAttention.v.weight', 'decoder.block.16.layer.1.EncDecAttention.v.weight', 'decoder.block.17.layer.0.layer_norm.weight', 'decoder.block.21.layer.1.EncDecAttention.k.weight', 'decoder.block.16.layer.0.SelfAttention.k.weight', 'decoder.block.11.layer.0.layer_norm.weight', 'decoder.block.22.layer.1.layer_norm.weight', 'decoder.block.7.layer.1.EncDecAttention.q.weight', 'decoder.block.14.layer.1.EncDecAttention.v.weight', 'decoder.block.21.layer.1.layer_norm.weight', 'decoder.block.20.layer.0.layer_norm.weight', 'decoder.block.15.layer.0.SelfAttention.k.weight', 'decoder.block.12.layer.1.layer_norm.weight', 'decoder.block.7.layer.0.SelfAttention.k.weight', 'decoder.block.9.layer.2.DenseReluDense.wo.weight', 'decoder.block.13.layer.1.EncDecAttention.v.weight', 'decoder.block.16.layer.2.DenseReluDense.wo.weight', 'decoder.block.19.layer.0.SelfAttention.k.weight', 'decoder.block.2.layer.0.SelfAttention.q.weight', 'decoder.block.10.layer.1.layer_norm.weight', 'decoder.block.14.layer.1.EncDecAttention.o.weight', 'decoder.block.2.layer.0.SelfAttention.o.weight', 'decoder.block.7.layer.2.DenseReluDense.wo.weight', 'decoder.block.10.layer.1.EncDecAttention.o.weight', 'decoder.block.19.layer.0.SelfAttention.q.weight', 'decoder.block.23.layer.0.SelfAttention.k.weight', 'decoder.block.21.layer.2.DenseReluDense.wo.weight', 'decoder.block.22.layer.1.EncDecAttention.v.weight', 'decoder.block.14.layer.0.SelfAttention.v.weight', 'decoder.block.12.layer.2.layer_norm.weight', 'decoder.block.5.layer.0.SelfAttention.v.weight', 'decoder.block.10.layer.0.SelfAttention.q.weight', 'decoder.block.12.layer.0.SelfAttention.q.weight', 'decoder.block.16.layer.2.layer_norm.weight', 'decoder.block.5.layer.1.EncDecAttention.k.weight', 'decoder.block.20.layer.0.SelfAttention.q.weight', 'decoder.block.18.layer.1.EncDecAttention.k.weight', 'decoder.block.6.layer.2.layer_norm.weight', 'decoder.block.1.layer.1.EncDecAttention.o.weight', 'decoder.block.15.layer.2.DenseReluDense.wo.weight', 'decoder.block.2.layer.0.layer_norm.weight', 'decoder.block.0.layer.0.SelfAttention.v.weight', 'decoder.block.9.layer.2.layer_norm.weight', 'decoder.block.23.layer.1.EncDecAttention.o.weight', 'decoder.block.11.layer.2.layer_norm.weight', 'decoder.block.17.layer.0.SelfAttention.v.weight', 'decoder.block.8.layer.1.EncDecAttention.v.weight', 'decoder.block.11.layer.1.EncDecAttention.k.weight', 'decoder.block.15.layer.0.SelfAttention.q.weight', 'decoder.block.20.layer.1.EncDecAttention.v.weight', 'decoder.block.20.layer.2.DenseReluDense.wi.weight', 'decoder.block.13.layer.2.DenseReluDense.wo.weight', 'decoder.block.20.layer.0.SelfAttention.v.weight', 'decoder.block.8.layer.1.layer_norm.weight', 'decoder.block.17.layer.0.SelfAttention.o.weight', 'decoder.block.14.layer.0.SelfAttention.o.weight', 'decoder.block.2.layer.1.EncDecAttention.o.weight', 'decoder.block.0.layer.2.DenseReluDense.wo.weight', 'decoder.block.3.layer.1.EncDecAttention.k.weight', 'decoder.block.10.layer.1.EncDecAttention.k.weight', 'decoder.block.1.layer.0.layer_norm.weight', 'decoder.block.11.layer.1.EncDecAttention.o.weight', 'lm_head.weight', 'decoder.block.20.layer.2.layer_norm.weight', 'decoder.block.3.layer.0.SelfAttention.k.weight', 'decoder.block.13.layer.0.SelfAttention.v.weight', 'decoder.block.21.layer.0.SelfAttention.v.weight', 'decoder.block.2.layer.1.EncDecAttention.q.weight', 'decoder.block.1.layer.1.EncDecAttention.v.weight', 'decoder.block.17.layer.0.SelfAttention.k.weight', 'decoder.block.21.layer.0.SelfAttention.o.weight', 'decoder.block.7.layer.1.EncDecAttention.o.weight', 'decoder.block.7.layer.2.DenseReluDense.wi.weight', 'decoder.block.10.layer.0.SelfAttention.o.weight', 'decoder.block.21.layer.0.layer_norm.weight', 'decoder.block.3.layer.2.DenseReluDense.wo.weight', 'decoder.block.8.layer.0.SelfAttention.v.weight', 'decoder.block.4.layer.1.EncDecAttention.k.weight', 'decoder.block.7.layer.1.EncDecAttention.k.weight', 'decoder.block.22.layer.2.DenseReluDense.wi.weight', 'decoder.block.9.layer.0.SelfAttention.o.weight', 'decoder.block.13.layer.1.layer_norm.weight', 'decoder.block.13.layer.2.DenseReluDense.wi.weight', 'decoder.block.23.layer.0.SelfAttention.o.weight', 'decoder.block.16.layer.1.EncDecAttention.k.weight', 'decoder.block.21.layer.2.DenseReluDense.wi.weight', 'decoder.block.6.layer.0.layer_norm.weight', 'decoder.block.5.layer.2.layer_norm.weight', 'decoder.block.6.layer.0.SelfAttention.v.weight', 'decoder.block.15.layer.2.layer_norm.weight', 'decoder.block.3.layer.0.SelfAttention.q.weight', 'decoder.block.3.layer.1.EncDecAttention.v.weight', 'decoder.block.20.layer.2.DenseReluDense.wo.weight', 'decoder.block.0.layer.0.SelfAttention.o.weight', 'decoder.block.6.layer.1.EncDecAttention.q.weight', 'decoder.block.0.layer.0.SelfAttention.q.weight', 'decoder.block.21.layer.0.SelfAttention.q.weight', 'decoder.block.16.layer.0.layer_norm.weight', 'decoder.block.6.layer.0.SelfAttention.k.weight', 'decoder.block.0.layer.2.layer_norm.weight', 'decoder.block.3.layer.2.layer_norm.weight', 'decoder.block.9.layer.1.EncDecAttention.q.weight', 'decoder.block.3.layer.0.SelfAttention.v.weight', 'decoder.block.2.layer.1.EncDecAttention.k.weight', 'decoder.block.10.layer.2.DenseReluDense.wi.weight', 'decoder.block.1.layer.0.SelfAttention.o.weight', 'decoder.block.15.layer.1.layer_norm.weight', 'decoder.block.14.layer.0.SelfAttention.k.weight', 'decoder.block.13.layer.0.SelfAttention.q.weight', 'decoder.block.18.layer.1.layer_norm.weight', 'decoder.block.5.layer.2.DenseReluDense.wo.weight', 'decoder.block.22.layer.1.EncDecAttention.k.weight', 'decoder.block.4.layer.1.EncDecAttention.v.weight', 'decoder.block.6.layer.0.SelfAttention.q.weight', 'decoder.block.20.layer.1.EncDecAttention.k.weight', 'decoder.final_layer_norm.weight', 'decoder.block.2.layer.0.SelfAttention.k.weight', 'decoder.block.22.layer.0.layer_norm.weight', 'decoder.block.16.layer.2.DenseReluDense.wi.weight', 'decoder.block.4.layer.0.SelfAttention.v.weight', 'decoder.block.14.layer.1.EncDecAttention.q.weight', 'decoder.block.13.layer.0.SelfAttention.o.weight', 'decoder.block.15.layer.1.EncDecAttention.o.weight', 'decoder.block.15.layer.0.SelfAttention.v.weight', 'decoder.block.2.layer.1.EncDecAttention.v.weight', 'decoder.block.1.layer.1.EncDecAttention.q.weight', 'decoder.block.18.layer.0.SelfAttention.v.weight', 'decoder.block.22.layer.0.SelfAttention.v.weight', 'decoder.block.4.layer.0.SelfAttention.k.weight', 'decoder.block.22.layer.0.SelfAttention.o.weight', 'decoder.block.20.layer.1.layer_norm.weight', 'decoder.block.0.layer.1.layer_norm.weight', 'decoder.block.2.layer.0.SelfAttention.v.weight', 'decoder.block.21.layer.0.SelfAttention.k.weight']\n",
      "- This IS expected if you are initializing T5EncoderModel from the checkpoint of a model trained on another task or with another architecture (e.g. initializing a BertForSequenceClassification model from a BertForPreTraining model).\n",
      "- This IS NOT expected if you are initializing T5EncoderModel from the checkpoint of a model that you expect to be exactly identical (initializing a BertForSequenceClassification model from a BertForSequenceClassification model).\n"
     ]
    },
    {
     "name": "stdout",
     "output_type": "stream",
     "text": [
      "########################################\n",
      "Total number of sequences: 233\n",
      "Average sequence length: 94.79828326180258\n",
      "Number of sequences >1022: 0\n"
     ]
    },
    {
     "name": "stderr",
     "output_type": "stream",
     "text": [
      " 10%|▉         | 23/233 [00:02<00:25,  8.36it/s]"
     ]
    },
    {
     "name": "stdout",
     "output_type": "stream",
     "text": [
      "Embedded protein SRCTHLENRDFVTGTQGTTRVTLVLELGGCVTITAEGKPSMDVWLDAIYQENPAKTREYCLHAKLSDTKVAARCPTMGPATLAEEHQGGTVCKRDQSDRGWGNHCGLFGKGSIVACVKAACEAKKKATGHVYDANKIVYTVKVEPHTGDYVAANETHSGRKTASFTISSEKTILTMGEYGDVSLLCRVASGVDLAQTVILELDKTVEHLPTAWQVHRDWFNDLALPWKHEGAQNWNNAERLVEFGAPHAVKMDVYNLGDQTGVLLKALAGVPVAHIEGTKYHLKSGHVTCEVGLEKLKMKGL with length 302 to emb. of shape: torch.Size([302, 1024])\n"
     ]
    },
    {
     "name": "stderr",
     "output_type": "stream",
     "text": [
      "100%|██████████| 233/233 [00:08<00:00, 26.57it/s]\n"
     ]
    },
    {
     "name": "stdout",
     "output_type": "stream",
     "text": [
      "\n",
      "############# STATS #############\n",
      "Total number of embeddings: 233\n"
     ]
    }
   ],
   "source": [
    "#ProtT5\n",
    "sequences = set()\n",
    "sw     = res.reset_index().apply(lambda x: sequences.add(x[0]), axis=1)\n",
    "sw     = res.reset_index().apply(lambda x: sequences.add(x[1]), axis=1)\n",
    "print(len(sequences))\n",
    "\n",
    "fasta_file = 'data/alignment_benchmark/malisam/protein.fasta'\n",
    "with open(fasta_file, 'w') as handle:\n",
    "    for protein in sequences:\n",
    "        handle.write(f\">{protein}\\n\")\n",
    "        handle.write(f\"{protein}\\n\")\n",
    "\n",
    "from plmalign.embedding_generate import prottrans_embedding_generate\n",
    "import torch\n",
    "\n",
    "embeddings = prottrans_embedding_generate(fasta_file)\n",
    "\n",
    "final_embeddings = {}\n",
    "\n",
    "output_file = 'data/alignment_benchmark/malisam/t5_embedding.pt'\n",
    "\n",
    "torch.save(\n",
    "    embeddings,\n",
    "    output_file,\n",
    ")"
   ]
  },
  {
   "cell_type": "code",
   "execution_count": 5,
   "metadata": {},
   "outputs": [
    {
     "name": "stdout",
     "output_type": "stream",
     "text": [
      "233\n",
      "Transferred model to GPU\n",
      "Read data/alignment_benchmark/malisam/protein.fasta with 233 sequences\n",
      "Processing 1 of 3 batches (158 sequences)\n",
      "Processing 2 of 3 batches (73 sequences)\n",
      "Processing 3 of 3 batches (2 sequences)\n"
     ]
    }
   ],
   "source": [
    "#ESM-1b\n",
    "sequences = set()\n",
    "sw     = res.reset_index().apply(lambda x: sequences.add(x[0]), axis=1)\n",
    "sw     = res.reset_index().apply(lambda x: sequences.add(x[1]), axis=1)\n",
    "print(len(sequences))\n",
    "\n",
    "fasta_file = 'data/alignment_benchmark/malisam/protein.fasta'\n",
    "with open(fasta_file, 'w') as handle:\n",
    "    for protein in sequences:\n",
    "        handle.write(f\">{protein}\\n\")\n",
    "        handle.write(f\"{protein}\\n\")\n",
    "\n",
    "from plmalign.embedding_generate import esm_embedding_generate\n",
    "import torch\n",
    "\n",
    "embeddings = esm_embedding_generate(fasta_file)\n",
    "\n",
    "final_embeddings = {}\n",
    "\n",
    "output_file = 'data/alignment_benchmark/malisam/esm_embedding.pt'\n",
    "\n",
    "torch.save(\n",
    "    embeddings,\n",
    "    output_file,\n",
    ")"
   ]
  },
  {
   "cell_type": "markdown",
   "metadata": {},
   "source": [
    "<h3>PLMAlign (local and global) and pLM-BLAST (local and global)</h3>"
   ]
  },
  {
   "cell_type": "code",
   "execution_count": 6,
   "metadata": {},
   "outputs": [
    {
     "name": "stderr",
     "output_type": "stream",
     "text": [
      "/mnt/data/lw/plmalign/plmalign/plmalign_util/numeric.py:138: NumbaDeprecationWarning: The 'nopython' keyword argument was not supplied to the 'numba.jit' decorator. The implicit default value for this argument is currently False, but it will be changed to True in Numba 0.59.0. See https://numba.readthedocs.io/en/stable/reference/deprecation.html#deprecation-of-object-mode-fall-back-behaviour-when-using-jit for details.\n",
      "  @numba.jit(fastmath=True, cache=True)\n",
      "/mnt/data/lw/plmalign/plmalign/plmblast_util/numeric.py:172: NumbaDeprecationWarning: The 'nopython' keyword argument was not supplied to the 'numba.jit' decorator. The implicit default value for this argument is currently False, but it will be changed to True in Numba 0.59.0. See https://numba.readthedocs.io/en/stable/reference/deprecation.html#deprecation-of-object-mode-fall-back-behaviour-when-using-jit for details.\n",
      "  @numba.jit(fastmath=True, cache=True)\n"
     ]
    }
   ],
   "source": [
    "import torch\n",
    "from plmalign.plmalign import pairwise_align\n",
    "\n",
    "#embeddings = torch.load('data/alignment_benchmark/malisam/t5_embedding.pt')\n",
    "embeddings = torch.load('data/alignment_benchmark/malisam/esm_embedding.pt')\n",
    "\n",
    "def plmblast_sw_f(x, y):\n",
    "    x_e = embeddings[x]\n",
    "    y_e = embeddings[y]\n",
    "    _, alignments = pairwise_align(x_e, y_e, x, y, mode='local', method='plmblast')\n",
    "    first_newline_index = alignments.find('\\n')\n",
    "    x_seq = alignments[:first_newline_index]\n",
    "    second_newline_index = alignments.find('\\n', first_newline_index + 1)\n",
    "    y_seq = alignments[second_newline_index + 1:]\n",
    "    states = list(map(state_f, zip(list(x_seq), list(y_seq))))\n",
    "    states = ''.join(list(map(revstate_f, states)))\n",
    "    return states\n",
    "\n",
    "def plmblast_nw_f(x, y):\n",
    "    x_e = embeddings[x]\n",
    "    y_e = embeddings[y]\n",
    "    _, alignments = pairwise_align(x_e, y_e, x, y, mode='global', method='plmblast')\n",
    "    first_newline_index = alignments.find('\\n')\n",
    "    x_seq = alignments[:first_newline_index]\n",
    "    second_newline_index = alignments.find('\\n', first_newline_index + 1)\n",
    "    y_seq = alignments[second_newline_index + 1:]\n",
    "    states = list(map(state_f, zip(list(x_seq), list(y_seq))))\n",
    "    states = ''.join(list(map(revstate_f, states)))\n",
    "    return states\n",
    "\n",
    "def plmalign_sw_f(x, y):\n",
    "    x_e = embeddings[x]\n",
    "    y_e = embeddings[y]\n",
    "    _, alignments = pairwise_align(x_e, y_e, x, y, mode='local', method='plmalign')\n",
    "    first_newline_index = alignments.find('\\n')\n",
    "    x_seq = alignments[:first_newline_index]\n",
    "    second_newline_index = alignments.find('\\n', first_newline_index + 1)\n",
    "    y_seq = alignments[second_newline_index + 1:]\n",
    "    states = list(map(state_f, zip(list(x_seq), list(y_seq))))\n",
    "    states = ''.join(list(map(revstate_f, states)))\n",
    "    return states\n",
    "\n",
    "def plmalign_nw_f(x, y):\n",
    "    x_e = embeddings[x]\n",
    "    y_e = embeddings[y]\n",
    "    _, alignments = pairwise_align(x_e, y_e, x, y, mode='global', method='plmalign')\n",
    "    first_newline_index = alignments.find('\\n')\n",
    "    x_seq = alignments[:first_newline_index]\n",
    "    second_newline_index = alignments.find('\\n', first_newline_index + 1)\n",
    "    y_seq = alignments[second_newline_index + 1:]\n",
    "    states = list(map(state_f, zip(list(x_seq), list(y_seq))))\n",
    "    states = ''.join(list(map(revstate_f, states)))\n",
    "    return states\n",
    "\n",
    "# plm-blast and plmalign\n",
    "plmalign     = res.reset_index().apply(lambda x: plmalign_sw_f(x[0], x[1]), axis=1)\n",
    "res['plmalign'] = plmalign.values\n",
    "\n",
    "plmalign_global     = res.reset_index().apply(lambda x: plmalign_nw_f(x[0], x[1]), axis=1)\n",
    "res['plmalign_global'] = plmalign_global.values\n",
    "\n",
    "\n",
    "plmblast     = res.reset_index().apply(lambda x: plmblast_sw_f(x[0], x[1]), axis=1)\n",
    "res['plmblast'] = plmblast.values\n",
    "\n",
    "plmblast_global     = res.reset_index().apply(lambda x: plmblast_nw_f(x[0], x[1]), axis=1)\n",
    "res['plmblast_global'] = plmblast_global.values"
   ]
  },
  {
   "cell_type": "markdown",
   "metadata": {},
   "source": [
    "<h3>Parse BLAST and HMMER</h3>"
   ]
  },
  {
   "cell_type": "code",
   "execution_count": 7,
   "metadata": {},
   "outputs": [],
   "source": [
    "# Blast and HMMER\n",
    "from plmalign.dataset.parse_hmmer import get_hmmer_alignments\n",
    "from plmalign.dataset.parse_blast import get_blast_alignments\n",
    "\n",
    "hmmer_path = f'./data/alignment_benchmark/hmmer/{benchmark}-hmm.out'\n",
    "blast_path = f'./data/alignment_benchmark/blast/{benchmark}_blast_alignments.xml'\n",
    "\n",
    "hmmer_df = get_hmmer_alignments(hmmer_path, mali_root)\n",
    "blast_df = get_blast_alignments(blast_path, mali_root)\n",
    "\n",
    "ref = read_mali(mali_root, tool='manual', report_ids=True)\n",
    "ref = ref.set_index(['query_id', 'hit_id'])\n",
    "\n",
    "ref_hmmer = pd.merge(ref, hmmer_df.set_index(['query_id', 'hit_id']), \n",
    "                     left_index=True, right_index=True, how='left')\n",
    "ref_hmmer = ref_hmmer.rename(columns={2: 'manual'})\n",
    "ref_blast = pd.merge(ref, blast_df.set_index(['query_id', 'hit_id']), \n",
    "                     left_index=True, right_index=True, how='left')\n",
    "ref_blast = ref_blast.rename(columns={2: 'manual'})\n",
    "\n",
    "# clean up types\n",
    "ref_blast = ref_blast.fillna(-1)\n",
    "ref_blast['query_start'] = ref_blast['query_start'].astype(np.int64)\n",
    "ref_blast['hit_start'] = ref_blast['hit_start'].astype(np.int64)\n",
    "\n",
    "ref_hmmer = ref_hmmer.fillna(-1)\n",
    "ref_hmmer['query_start'] = ref_hmmer['query_start'].astype(np.int64)\n",
    "ref_hmmer['hit_start'] = ref_hmmer['hit_start'].astype(np.int64)"
   ]
  },
  {
   "cell_type": "code",
   "execution_count": 8,
   "metadata": {},
   "outputs": [],
   "source": [
    "# There are some shit mammoth alignments, filter those out\n",
    "idx = res['mammoth'].apply(len) > 0\n",
    "res = res.loc[idx]"
   ]
  },
  {
   "cell_type": "markdown",
   "metadata": {},
   "source": [
    "<h3>Define scoring functions with predefined kernels, and parallelize with Dask</h3>"
   ]
  },
  {
   "cell_type": "code",
   "execution_count": 9,
   "metadata": {},
   "outputs": [
    {
     "name": "stderr",
     "output_type": "stream",
     "text": [
      "/home/lw/anaconda3/envs/plmblast/lib/python3.9/site-packages/dask/dataframe/_pyarrow_compat.py:17: FutureWarning: Minimal version of pyarrow will soon be increased to 14.0.1. You are using 11.0.0. Please consider upgrading.\n",
      "  warnings.warn(\n",
      "/home/lw/anaconda3/envs/plmblast/lib/python3.9/site-packages/dask/dataframe/_pyarrow_compat.py:17: FutureWarning: Minimal version of pyarrow will soon be increased to 14.0.1. You are using 11.0.0. Please consider upgrading.\n",
      "  warnings.warn(\n",
      "/home/lw/anaconda3/envs/plmblast/lib/python3.9/site-packages/dask/dataframe/_pyarrow_compat.py:17: FutureWarning: Minimal version of pyarrow will soon be increased to 14.0.1. You are using 11.0.0. Please consider upgrading.\n",
      "  warnings.warn(\n",
      "/home/lw/anaconda3/envs/plmblast/lib/python3.9/site-packages/dask/dataframe/_pyarrow_compat.py:17: FutureWarning: Minimal version of pyarrow will soon be increased to 14.0.1. You are using 11.0.0. Please consider upgrading.\n",
      "  warnings.warn(\n",
      "/home/lw/anaconda3/envs/plmblast/lib/python3.9/site-packages/dask/dataframe/_pyarrow_compat.py:17: FutureWarning: Minimal version of pyarrow will soon be increased to 14.0.1. You are using 11.0.0. Please consider upgrading.\n",
      "  warnings.warn(\n",
      "/home/lw/anaconda3/envs/plmblast/lib/python3.9/site-packages/dask/dataframe/_pyarrow_compat.py:17: FutureWarning: Minimal version of pyarrow will soon be increased to 14.0.1. You are using 11.0.0. Please consider upgrading.\n",
      "  warnings.warn(\n",
      "/home/lw/anaconda3/envs/plmblast/lib/python3.9/site-packages/dask/dataframe/_pyarrow_compat.py:17: FutureWarning: Minimal version of pyarrow will soon be increased to 14.0.1. You are using 11.0.0. Please consider upgrading.\n",
      "  warnings.warn(\n",
      "/home/lw/anaconda3/envs/plmblast/lib/python3.9/site-packages/dask/dataframe/_pyarrow_compat.py:17: FutureWarning: Minimal version of pyarrow will soon be increased to 14.0.1. You are using 11.0.0. Please consider upgrading.\n",
      "  warnings.warn(\n",
      "/home/lw/anaconda3/envs/plmblast/lib/python3.9/site-packages/dask/dataframe/_pyarrow_compat.py:17: FutureWarning: Minimal version of pyarrow will soon be increased to 14.0.1. You are using 11.0.0. Please consider upgrading.\n",
      "  warnings.warn(\n",
      "/home/lw/anaconda3/envs/plmblast/lib/python3.9/site-packages/dask/dataframe/_pyarrow_compat.py:17: FutureWarning: Minimal version of pyarrow will soon be increased to 14.0.1. You are using 11.0.0. Please consider upgrading.\n",
      "  warnings.warn(\n",
      "/home/lw/anaconda3/envs/plmblast/lib/python3.9/site-packages/dask/dataframe/_pyarrow_compat.py:17: FutureWarning: Minimal version of pyarrow will soon be increased to 14.0.1. You are using 11.0.0. Please consider upgrading.\n",
      "  warnings.warn(\n",
      "/home/lw/anaconda3/envs/plmblast/lib/python3.9/site-packages/dask/dataframe/_pyarrow_compat.py:17: FutureWarning: Minimal version of pyarrow will soon be increased to 14.0.1. You are using 11.0.0. Please consider upgrading.\n",
      "  warnings.warn(\n",
      "/home/lw/anaconda3/envs/plmblast/lib/python3.9/site-packages/dask/dataframe/_pyarrow_compat.py:17: FutureWarning: Minimal version of pyarrow will soon be increased to 14.0.1. You are using 11.0.0. Please consider upgrading.\n",
      "  warnings.warn(\n",
      "/home/lw/anaconda3/envs/plmblast/lib/python3.9/site-packages/dask/dataframe/_pyarrow_compat.py:17: FutureWarning: Minimal version of pyarrow will soon be increased to 14.0.1. You are using 11.0.0. Please consider upgrading.\n",
      "  warnings.warn(\n",
      "/home/lw/anaconda3/envs/plmblast/lib/python3.9/site-packages/dask/dataframe/_pyarrow_compat.py:17: FutureWarning: Minimal version of pyarrow will soon be increased to 14.0.1. You are using 11.0.0. Please consider upgrading.\n",
      "  warnings.warn(\n",
      "/home/lw/anaconda3/envs/plmblast/lib/python3.9/site-packages/dask/dataframe/_pyarrow_compat.py:17: FutureWarning: Minimal version of pyarrow will soon be increased to 14.0.1. You are using 11.0.0. Please consider upgrading.\n",
      "  warnings.warn(\n",
      "/home/lw/anaconda3/envs/plmblast/lib/python3.9/site-packages/dask/dataframe/_pyarrow_compat.py:17: FutureWarning: Minimal version of pyarrow will soon be increased to 14.0.1. You are using 11.0.0. Please consider upgrading.\n",
      "  warnings.warn(\n",
      "/home/lw/anaconda3/envs/plmblast/lib/python3.9/site-packages/dask/dataframe/_pyarrow_compat.py:17: FutureWarning: Minimal version of pyarrow will soon be increased to 14.0.1. You are using 11.0.0. Please consider upgrading.\n",
      "  warnings.warn(\n",
      "/home/lw/anaconda3/envs/plmblast/lib/python3.9/site-packages/dask/dataframe/_pyarrow_compat.py:17: FutureWarning: Minimal version of pyarrow will soon be increased to 14.0.1. You are using 11.0.0. Please consider upgrading.\n",
      "  warnings.warn(\n",
      "/home/lw/anaconda3/envs/plmblast/lib/python3.9/site-packages/dask/dataframe/_pyarrow_compat.py:17: FutureWarning: Minimal version of pyarrow will soon be increased to 14.0.1. You are using 11.0.0. Please consider upgrading.\n",
      "  warnings.warn(\n",
      "/home/lw/anaconda3/envs/plmblast/lib/python3.9/site-packages/dask/dataframe/_pyarrow_compat.py:17: FutureWarning: Minimal version of pyarrow will soon be increased to 14.0.1. You are using 11.0.0. Please consider upgrading.\n",
      "  warnings.warn(\n",
      "/home/lw/anaconda3/envs/plmblast/lib/python3.9/site-packages/dask/dataframe/_pyarrow_compat.py:17: FutureWarning: Minimal version of pyarrow will soon be increased to 14.0.1. You are using 11.0.0. Please consider upgrading.\n",
      "  warnings.warn(\n",
      "/home/lw/anaconda3/envs/plmblast/lib/python3.9/site-packages/dask/dataframe/_pyarrow_compat.py:17: FutureWarning: Minimal version of pyarrow will soon be increased to 14.0.1. You are using 11.0.0. Please consider upgrading.\n",
      "  warnings.warn(\n",
      "/home/lw/anaconda3/envs/plmblast/lib/python3.9/site-packages/dask/dataframe/_pyarrow_compat.py:17: FutureWarning: Minimal version of pyarrow will soon be increased to 14.0.1. You are using 11.0.0. Please consider upgrading.\n",
      "  warnings.warn(\n",
      "/home/lw/anaconda3/envs/plmblast/lib/python3.9/site-packages/dask/dataframe/_pyarrow_compat.py:17: FutureWarning: Minimal version of pyarrow will soon be increased to 14.0.1. You are using 11.0.0. Please consider upgrading.\n",
      "  warnings.warn(\n",
      "/home/lw/anaconda3/envs/plmblast/lib/python3.9/site-packages/dask/dataframe/_pyarrow_compat.py:17: FutureWarning: Minimal version of pyarrow will soon be increased to 14.0.1. You are using 11.0.0. Please consider upgrading.\n",
      "  warnings.warn(\n",
      "/home/lw/anaconda3/envs/plmblast/lib/python3.9/site-packages/dask/dataframe/_pyarrow_compat.py:17: FutureWarning: Minimal version of pyarrow will soon be increased to 14.0.1. You are using 11.0.0. Please consider upgrading.\n",
      "  warnings.warn(\n",
      "/home/lw/anaconda3/envs/plmblast/lib/python3.9/site-packages/dask/dataframe/_pyarrow_compat.py:17: FutureWarning: Minimal version of pyarrow will soon be increased to 14.0.1. You are using 11.0.0. Please consider upgrading.\n",
      "  warnings.warn(\n",
      "/home/lw/anaconda3/envs/plmblast/lib/python3.9/site-packages/dask/dataframe/_pyarrow_compat.py:17: FutureWarning: Minimal version of pyarrow will soon be increased to 14.0.1. You are using 11.0.0. Please consider upgrading.\n",
      "  warnings.warn(\n",
      "/home/lw/anaconda3/envs/plmblast/lib/python3.9/site-packages/dask/dataframe/_pyarrow_compat.py:17: FutureWarning: Minimal version of pyarrow will soon be increased to 14.0.1. You are using 11.0.0. Please consider upgrading.\n",
      "  warnings.warn(\n",
      "/home/lw/anaconda3/envs/plmblast/lib/python3.9/site-packages/dask/dataframe/_pyarrow_compat.py:17: FutureWarning: Minimal version of pyarrow will soon be increased to 14.0.1. You are using 11.0.0. Please consider upgrading.\n",
      "  warnings.warn(\n",
      "/home/lw/anaconda3/envs/plmblast/lib/python3.9/site-packages/dask/dataframe/_pyarrow_compat.py:17: FutureWarning: Minimal version of pyarrow will soon be increased to 14.0.1. You are using 11.0.0. Please consider upgrading.\n",
      "  warnings.warn(\n",
      "/home/lw/anaconda3/envs/plmblast/lib/python3.9/site-packages/dask/dataframe/_pyarrow_compat.py:17: FutureWarning: Minimal version of pyarrow will soon be increased to 14.0.1. You are using 11.0.0. Please consider upgrading.\n",
      "  warnings.warn(\n",
      "/home/lw/anaconda3/envs/plmblast/lib/python3.9/site-packages/dask/dataframe/_pyarrow_compat.py:17: FutureWarning: Minimal version of pyarrow will soon be increased to 14.0.1. You are using 11.0.0. Please consider upgrading.\n",
      "  warnings.warn(\n",
      "/home/lw/anaconda3/envs/plmblast/lib/python3.9/site-packages/dask/dataframe/_pyarrow_compat.py:17: FutureWarning: Minimal version of pyarrow will soon be increased to 14.0.1. You are using 11.0.0. Please consider upgrading.\n",
      "  warnings.warn(\n",
      "/home/lw/anaconda3/envs/plmblast/lib/python3.9/site-packages/dask/dataframe/_pyarrow_compat.py:17: FutureWarning: Minimal version of pyarrow will soon be increased to 14.0.1. You are using 11.0.0. Please consider upgrading.\n",
      "  warnings.warn(\n",
      "/home/lw/anaconda3/envs/plmblast/lib/python3.9/site-packages/dask/dataframe/_pyarrow_compat.py:17: FutureWarning: Minimal version of pyarrow will soon be increased to 14.0.1. You are using 11.0.0. Please consider upgrading.\n",
      "  warnings.warn(\n",
      "/home/lw/anaconda3/envs/plmblast/lib/python3.9/site-packages/dask/dataframe/_pyarrow_compat.py:17: FutureWarning: Minimal version of pyarrow will soon be increased to 14.0.1. You are using 11.0.0. Please consider upgrading.\n",
      "  warnings.warn(\n",
      "/home/lw/anaconda3/envs/plmblast/lib/python3.9/site-packages/dask/dataframe/_pyarrow_compat.py:17: FutureWarning: Minimal version of pyarrow will soon be increased to 14.0.1. You are using 11.0.0. Please consider upgrading.\n",
      "  warnings.warn(\n",
      "/home/lw/anaconda3/envs/plmblast/lib/python3.9/site-packages/dask/dataframe/_pyarrow_compat.py:17: FutureWarning: Minimal version of pyarrow will soon be increased to 14.0.1. You are using 11.0.0. Please consider upgrading.\n",
      "  warnings.warn(\n"
     ]
    }
   ],
   "source": [
    "import warnings\n",
    "warnings.filterwarnings(\"ignore\")\n",
    "k = [1, 3, 5, 10]\n",
    "\n",
    "blast_stats = score_local_alignment(ref_blast.reset_index(), k, n_cores=30)\n",
    "hmmer_stats = score_local_alignment(ref_hmmer.reset_index(), k, n_cores=30)\n",
    "\n",
    "nw_stats = score_global_alignment(res.reset_index(), 'needleman-wunsch', k, n_cores=30)\n",
    "sw_stats = score_global_alignment(res.reset_index(), 'smith-waterman', k, n_cores=30)\n",
    "plmblast_stats = score_global_alignment(res.reset_index(), 'plmblast', k, n_cores=30)\n",
    "plmblast_global_stats = score_global_alignment(res.reset_index(), 'plmblast_global', k, n_cores=30)\n",
    "plmalign_stats = score_global_alignment(res.reset_index(), 'plmalign', k, n_cores=30)\n",
    "plmalign_global_stats = score_global_alignment(res.reset_index(), 'plmalign_global', k, n_cores=30)"
   ]
  },
  {
   "cell_type": "markdown",
   "metadata": {},
   "source": [
    "<h3>Perform some dataset massaging to plot</h3>"
   ]
  },
  {
   "cell_type": "code",
   "execution_count": 10,
   "metadata": {},
   "outputs": [],
   "source": [
    "blast_stats['tool'] = 'blast'\n",
    "hmmer_stats['tool'] = 'hmmer'\n",
    "nw_stats['tool'] = 'nw'\n",
    "sw_stats['tool'] = 'sw'\n",
    "plmblast_stats['tool'] = 'plmblast'\n",
    "plmblast_global_stats['tool'] = 'plmblast_global'\n",
    "plmalign_stats['tool'] = 'plmalign'\n",
    "plmalign_global_stats['tool'] = 'plmalign_global'\n",
    "\n",
    "# add additional metadata regarding the pdb files\n",
    "manual = read_mali(mali_root, tool='manual', report_ids=True)\n",
    "blast_stats['pdb'] = manual['pdb']\n",
    "hmmer_stats['pdb'] = manual['pdb']\n",
    "nw_stats['pdb'] = manual['pdb']\n",
    "sw_stats['pdb'] = manual['pdb']\n",
    "plmblast_stats['pdb'] = manual['pdb']\n",
    "plmblast_global_stats['pdb'] = manual['pdb']\n",
    "plmalign_stats['pdb'] = manual['pdb']\n",
    "plmalign_global_stats['pdb'] = manual['pdb']\n",
    "\n",
    "# combine stats\n",
    "data = pd.concat((blast_stats, hmmer_stats,\n",
    "                  nw_stats, sw_stats,\n",
    "                  plmblast_stats, plmblast_global_stats,\n",
    "                  plmalign_stats, plmalign_global_stats\n",
    "                  ))\n",
    "\n",
    "# save file locally for later\n",
    "data.to_csv(f'./data/alignment_benchmark/result/{benchmark}_perc_id.csv')\n",
    "\n",
    "# melt dataframe to make it easier to plot\n",
    "data = pd.melt(data, id_vars=['tool', 'pdb'], var_name='kernel_width')"
   ]
  },
  {
   "cell_type": "markdown",
   "metadata": {},
   "source": [
    "<h3>Statistics</h3>"
   ]
  },
  {
   "cell_type": "code",
   "execution_count": 11,
   "metadata": {},
   "outputs": [],
   "source": [
    "# Run if need to regenerate figures from existing data\n",
    "benchmark = 'malisam'\n",
    "data = pd.read_csv(f'./data/alignment_benchmark/result/{benchmark}_perc_id.csv', index_col=0)\n",
    "data = pd.melt(data, id_vars=['tool', 'pdb'], var_name='kernel_width')\n",
    "\n",
    "# Filter out blast and hmmer. Comment if desired\n",
    "idx = data.tool.apply(lambda x: x not in ['blast', 'hmmer'])\n",
    "data = data.loc[idx]"
   ]
  },
  {
   "cell_type": "code",
   "execution_count": 12,
   "metadata": {},
   "outputs": [
    {
     "data": {
      "text/html": [
       "<div>\n",
       "<style scoped>\n",
       "    .dataframe tbody tr th:only-of-type {\n",
       "        vertical-align: middle;\n",
       "    }\n",
       "\n",
       "    .dataframe tbody tr th {\n",
       "        vertical-align: top;\n",
       "    }\n",
       "\n",
       "    .dataframe thead th {\n",
       "        text-align: right;\n",
       "    }\n",
       "</style>\n",
       "<table border=\"1\" class=\"dataframe\">\n",
       "  <thead>\n",
       "    <tr style=\"text-align: right;\">\n",
       "      <th></th>\n",
       "      <th>tool</th>\n",
       "      <th>pdb</th>\n",
       "      <th>kernel_width</th>\n",
       "      <th>value</th>\n",
       "    </tr>\n",
       "  </thead>\n",
       "  <tbody>\n",
       "    <tr>\n",
       "      <th>260</th>\n",
       "      <td>nw</td>\n",
       "      <td>d1uoua1d1fs1b1</td>\n",
       "      <td>1</td>\n",
       "      <td>0.016129</td>\n",
       "    </tr>\n",
       "    <tr>\n",
       "      <th>261</th>\n",
       "      <td>nw</td>\n",
       "      <td>d1vk3a3d1w2ia_</td>\n",
       "      <td>1</td>\n",
       "      <td>0.122807</td>\n",
       "    </tr>\n",
       "    <tr>\n",
       "      <th>262</th>\n",
       "      <td>nw</td>\n",
       "      <td>d1a7j__d2if1__</td>\n",
       "      <td>1</td>\n",
       "      <td>0.015873</td>\n",
       "    </tr>\n",
       "    <tr>\n",
       "      <th>263</th>\n",
       "      <td>nw</td>\n",
       "      <td>d1axn__d1sf9a_</td>\n",
       "      <td>1</td>\n",
       "      <td>0.040000</td>\n",
       "    </tr>\n",
       "    <tr>\n",
       "      <th>264</th>\n",
       "      <td>nw</td>\n",
       "      <td>d1lci__d1lla_1</td>\n",
       "      <td>1</td>\n",
       "      <td>0.037037</td>\n",
       "    </tr>\n",
       "    <tr>\n",
       "      <th>...</th>\n",
       "      <td>...</td>\n",
       "      <td>...</td>\n",
       "      <td>...</td>\n",
       "      <td>...</td>\n",
       "    </tr>\n",
       "    <tr>\n",
       "      <th>4131</th>\n",
       "      <td>plmalign_global</td>\n",
       "      <td>d1m9na2d1j27a_</td>\n",
       "      <td>10</td>\n",
       "      <td>0.000000</td>\n",
       "    </tr>\n",
       "    <tr>\n",
       "      <th>4132</th>\n",
       "      <td>plmalign_global</td>\n",
       "      <td>d1vk3a3d1lbu_2</td>\n",
       "      <td>10</td>\n",
       "      <td>0.000000</td>\n",
       "    </tr>\n",
       "    <tr>\n",
       "      <th>4133</th>\n",
       "      <td>plmalign_global</td>\n",
       "      <td>d1gc5a_d1omha_</td>\n",
       "      <td>10</td>\n",
       "      <td>0.000000</td>\n",
       "    </tr>\n",
       "    <tr>\n",
       "      <th>4134</th>\n",
       "      <td>plmalign_global</td>\n",
       "      <td>d1vaoa2d1no5a_</td>\n",
       "      <td>10</td>\n",
       "      <td>0.000000</td>\n",
       "    </tr>\n",
       "    <tr>\n",
       "      <th>4135</th>\n",
       "      <td>plmalign_global</td>\n",
       "      <td>d1ukfa_d1gsa_2</td>\n",
       "      <td>10</td>\n",
       "      <td>0.000000</td>\n",
       "    </tr>\n",
       "  </tbody>\n",
       "</table>\n",
       "<p>3096 rows × 4 columns</p>\n",
       "</div>"
      ],
      "text/plain": [
       "                 tool             pdb kernel_width     value\n",
       "260                nw  d1uoua1d1fs1b1            1  0.016129\n",
       "261                nw  d1vk3a3d1w2ia_            1  0.122807\n",
       "262                nw  d1a7j__d2if1__            1  0.015873\n",
       "263                nw  d1axn__d1sf9a_            1  0.040000\n",
       "264                nw  d1lci__d1lla_1            1  0.037037\n",
       "...               ...             ...          ...       ...\n",
       "4131  plmalign_global  d1m9na2d1j27a_           10  0.000000\n",
       "4132  plmalign_global  d1vk3a3d1lbu_2           10  0.000000\n",
       "4133  plmalign_global  d1gc5a_d1omha_           10  0.000000\n",
       "4134  plmalign_global  d1vaoa2d1no5a_           10  0.000000\n",
       "4135  plmalign_global  d1ukfa_d1gsa_2           10  0.000000\n",
       "\n",
       "[3096 rows x 4 columns]"
      ]
     },
     "execution_count": 12,
     "metadata": {},
     "output_type": "execute_result"
    }
   ],
   "source": [
    "data"
   ]
  },
  {
   "cell_type": "code",
   "execution_count": 13,
   "metadata": {},
   "outputs": [
    {
     "data": {
      "text/plain": [
       "tool\n",
       "nw                 516\n",
       "sw                 516\n",
       "plmblast           516\n",
       "plmblast_global    516\n",
       "plmalign           516\n",
       "plmalign_global    516\n",
       "Name: count, dtype: int64"
      ]
     },
     "execution_count": 13,
     "metadata": {},
     "output_type": "execute_result"
    }
   ],
   "source": [
    "data['tool'].value_counts()"
   ]
  },
  {
   "cell_type": "code",
   "execution_count": 14,
   "metadata": {},
   "outputs": [],
   "source": [
    "lookup = {\n",
    " 'blast' : 'BLAST',\n",
    " 'hmmer' : 'HMMER',\n",
    " 'sw' : 'Smith-Waterman',\n",
    " 'nw' : 'Needleman-Wunsch',\n",
    " 'plmblast' : 'pLM-BLAST',\n",
    " 'plmblast_global' : 'pLM-BLAST-global',\n",
    " 'plmalign' : 'PLMAlign', \n",
    " 'plmalign_global' : 'PLMAlign-global', \n",
    "}\n",
    "\n",
    "data['Method'] = data.apply(lambda x: lookup[x['tool']], axis=1)\n",
    "\n",
    "palette = {\n",
    "    'Smith-Waterman': \"green\", \n",
    "    'Needleman-Wunsch': \"orange\",\n",
    "    'pLM-BLAST': \"cyan\",\n",
    "    'pLM-BLAST-global': \"blue\",\n",
    "    'PLMAlign': \"red\",\n",
    "    'PLMAlign-global': \"purple\"\n",
    "}\n",
    "\n",
    "def local_alignment_score(x):\n",
    "    if x['aln'] == -1:\n",
    "        n_matches = np.sum(np.array(list(x['manual'])) == ':')\n",
    "        return 0, np.nan, n_matches, 0, 0, 1, 0\n",
    "    else:\n",
    "        return alignment_score(x['manual'], x['aln'])\n",
    "\n",
    "columns = [\n",
    "        'val_tp', 'val_fp', 'val_fn', 'val_perc_id',\n",
    "        'val_ppv', 'val_fnr', 'val_fdr'\n",
    "]\n",
    "blast_stats = pd.DataFrame(list(ref_blast.apply(local_alignment_score, axis=1).values), \n",
    "                           columns=columns)\n",
    "hmmer_stats = pd.DataFrame(list(ref_hmmer.apply(local_alignment_score, axis=1).values), \n",
    "                           columns=columns)\n",
    "sw_stats = pd.DataFrame(list(res.apply(lambda x: alignment_score(x['manual'], x['smith-waterman']), axis=1).values), \n",
    "                          columns=columns)\n",
    "nw_stats = pd.DataFrame(list(res.apply(lambda x: alignment_score(x['manual'], x['needleman-wunsch']), axis=1).values), \n",
    "                          columns=columns)\n",
    "plmblast_stats = pd.DataFrame(list(res.apply(lambda x: alignment_score(x['manual'], x['plmblast']), axis=1).values), \n",
    "                          columns=columns)\n",
    "plmblast_global_stats = pd.DataFrame(list(res.apply(lambda x: alignment_score(x['manual'], x['plmblast_global']), axis=1).values), \n",
    "                          columns=columns)\n",
    "plmalign_stats = pd.DataFrame(list(res.apply(lambda x: alignment_score(x['manual'], x['plmalign']), axis=1).values), \n",
    "                          columns=columns)\n",
    "plmalign_global_stats = pd.DataFrame(list(res.apply(lambda x: alignment_score(x['manual'], x['plmalign_global']), axis=1).values), \n",
    "                          columns=columns)"
   ]
  },
  {
   "cell_type": "code",
   "execution_count": 15,
   "metadata": {},
   "outputs": [],
   "source": [
    "blast_stats['tool'] = 'BLAST'\n",
    "hmmer_stats['tool'] = 'HMMER'\n",
    "sw_stats['tool'] = 'Smith-Waterman'\n",
    "nw_stats['tool'] = 'Needleman-Wunsch'\n",
    "plmblast_stats['tool'] = 'pLM-BLAST'\n",
    "plmblast_global_stats['tool'] = 'pLM-BLAST-global'\n",
    "plmalign_stats['tool'] = 'PLMAlign'\n",
    "plmalign_global_stats['tool'] = 'PLMAlign-global'\n",
    "\n",
    "\n",
    "data = pd.concat((blast_stats, hmmer_stats,\n",
    "                  sw_stats, nw_stats,\n",
    "                  plmblast_stats, plmblast_global_stats, \n",
    "                  plmalign_stats, plmalign_global_stats))\n",
    "\n",
    "data.to_csv(f'./data/alignment_benchmark/result/{benchmark}_allstats.csv')"
   ]
  },
  {
   "cell_type": "code",
   "execution_count": 16,
   "metadata": {},
   "outputs": [],
   "source": [
    "# read in locally to save time\n",
    "data = pd.read_csv(f'./data/alignment_benchmark/result/{benchmark}_allstats.csv', index_col=0)\n",
    "\n",
    "data = data.dropna()\n",
    "data['precision'] = data.apply(lambda x: x['val_tp'] / (x['val_tp'] + x['val_fp']), axis=1)\n",
    "data['recall'] = data.apply(lambda x: x['val_tp'] / (x['val_tp'] + x['val_fn']), axis=1)\n",
    "data['f1'] = data.apply(lambda x: 2 / ((1 / (x['precision'] + 1e-6)) + (1 / (x['recall'] + 1e-6))), axis=1)"
   ]
  },
  {
   "cell_type": "code",
   "execution_count": 17,
   "metadata": {},
   "outputs": [
    {
     "data": {
      "text/plain": [
       "tool\n",
       "Smith-Waterman      129\n",
       "Needleman-Wunsch    129\n",
       "pLM-BLAST           129\n",
       "pLM-BLAST-global    129\n",
       "PLMAlign            129\n",
       "PLMAlign-global     129\n",
       "HMMER                 3\n",
       "BLAST                 2\n",
       "Name: count, dtype: int64"
      ]
     },
     "execution_count": 17,
     "metadata": {},
     "output_type": "execute_result"
    }
   ],
   "source": [
    "data['tool'].value_counts()"
   ]
  },
  {
   "cell_type": "code",
   "execution_count": 18,
   "metadata": {},
   "outputs": [
    {
     "data": {
      "image/png": "[encoded data removed]",
      "text/plain": [
       "<Figure size 640x480 with 1 Axes>"
      ]
     },
     "metadata": {},
     "output_type": "display_data"
    }
   ],
   "source": [
    "sns.boxplot(data=data.query(\"tool != 'HMMER' & tool != 'BLAST'\"), \n",
    "            x='f1', y='tool', orient='h', palette=palette)\n",
    "locs, labels = plt.xticks()\n",
    "_ = plt.setp(labels, fontsize=16)\n",
    "\n",
    "locs, labels = plt.yticks()\n",
    "_ = plt.setp(labels, fontsize=16)\n",
    "\n",
    "plt.xlabel('F1 score', fontsize=18)\n",
    "plt.ylabel('')\n",
    "plt.tight_layout()\n",
    "plt.savefig(f'./data/alignment_benchmark/result/{benchmark}_f1_score.png')"
   ]
  },
  {
   "cell_type": "code",
   "execution_count": 19,
   "metadata": {},
   "outputs": [
    {
     "data": {
      "image/png": "[encoded data removed]",
      "text/plain": [
       "<Figure size 640x480 with 1 Axes>"
      ]
     },
     "metadata": {},
     "output_type": "display_data"
    }
   ],
   "source": [
    "sns.boxplot(data=data.query(\"tool != 'HMMER' & tool != 'BLAST'\"),\n",
    "            x='recall', y='tool', orient='h', palette=palette)\n",
    "locs, labels = plt.xticks()\n",
    "_ = plt.setp(labels, fontsize=16)\n",
    "\n",
    "locs, labels = plt.yticks()\n",
    "_ = plt.setp(labels, fontsize=16)\n",
    "\n",
    "plt.xlabel('Recall', fontsize=18)\n",
    "plt.ylabel('')\n",
    "plt.tight_layout()\n",
    "plt.savefig(f'./data/alignment_benchmark/result/{benchmark}_recall.png')"
   ]
  },
  {
   "cell_type": "code",
   "execution_count": 20,
   "metadata": {},
   "outputs": [
    {
     "data": {
      "image/png": "[encoded data removed]",
      "text/plain": [
       "<Figure size 640x480 with 1 Axes>"
      ]
     },
     "metadata": {},
     "output_type": "display_data"
    }
   ],
   "source": [
    "sns.boxplot(data=data.query(\"tool != 'HMMER' & tool != 'BLAST'\"), \n",
    "            x='precision', y='tool', orient='h', palette=palette)\n",
    "locs, labels = plt.xticks()\n",
    "_ = plt.setp(labels, fontsize=16)\n",
    "\n",
    "locs, labels = plt.yticks()\n",
    "_ = plt.setp(labels, fontsize=16)\n",
    "\n",
    "plt.xlabel('Precision', fontsize=18)\n",
    "plt.ylabel('')\n",
    "plt.tight_layout()\n",
    "plt.savefig(f'./data/alignment_benchmark/result/{benchmark}_precision.png')"
   ]
  },
  {
   "cell_type": "code",
   "execution_count": 21,
   "metadata": {},
   "outputs": [
    {
     "name": "stdout",
     "output_type": "stream",
     "text": [
      "tool\n",
      "BLAST               0.000001\n",
      "HMMER               0.000001\n",
      "Needleman-Wunsch    0.024736\n",
      "PLMAlign            0.037470\n",
      "PLMAlign-global     0.068791\n",
      "Smith-Waterman      0.031257\n",
      "pLM-BLAST           0.020022\n",
      "pLM-BLAST-global    0.032830\n",
      "Name: f1, dtype: float64\n"
     ]
    }
   ],
   "source": [
    "print(data.groupby(['tool']).mean()['f1'])"
   ]
  },
  {
   "cell_type": "code",
   "execution_count": 22,
   "metadata": {},
   "outputs": [
    {
     "name": "stdout",
     "output_type": "stream",
     "text": [
      "tool\n",
      "BLAST               0.000000\n",
      "HMMER               0.000000\n",
      "Needleman-Wunsch    0.002881\n",
      "PLMAlign            0.006833\n",
      "PLMAlign-global     0.007115\n",
      "Smith-Waterman      0.003569\n",
      "pLM-BLAST           0.005547\n",
      "pLM-BLAST-global    0.004380\n",
      "Name: f1, dtype: float64\n"
     ]
    }
   ],
   "source": [
    "print(data.groupby(['tool']).agg(sem)['f1'])"
   ]
  },
  {
   "cell_type": "code",
   "execution_count": 23,
   "metadata": {},
   "outputs": [
    {
     "name": "stdout",
     "output_type": "stream",
     "text": [
      "tool\n",
      "BLAST               0.000000\n",
      "HMMER               0.000000\n",
      "Needleman-Wunsch    0.020044\n",
      "PLMAlign            0.030640\n",
      "PLMAlign-global     0.063018\n",
      "Smith-Waterman      0.025272\n",
      "pLM-BLAST           0.013016\n",
      "pLM-BLAST-global    0.023773\n",
      "Name: recall, dtype: float64\n"
     ]
    }
   ],
   "source": [
    "print(data.groupby(['tool']).mean()['recall'])"
   ]
  },
  {
   "cell_type": "code",
   "execution_count": 24,
   "metadata": {},
   "outputs": [
    {
     "name": "stdout",
     "output_type": "stream",
     "text": [
      "tool\n",
      "BLAST               0.000000\n",
      "HMMER               0.000000\n",
      "Needleman-Wunsch    0.002324\n",
      "PLMAlign            0.005569\n",
      "PLMAlign-global     0.006566\n",
      "Smith-Waterman      0.002846\n",
      "pLM-BLAST           0.003736\n",
      "pLM-BLAST-global    0.003277\n",
      "Name: recall, dtype: float64\n"
     ]
    }
   ],
   "source": [
    "print(data.groupby(['tool']).agg(sem)['recall'])"
   ]
  },
  {
   "cell_type": "code",
   "execution_count": 25,
   "metadata": {},
   "outputs": [
    {
     "name": "stdout",
     "output_type": "stream",
     "text": [
      "tool\n",
      "BLAST               0.000000\n",
      "HMMER               0.000000\n",
      "Needleman-Wunsch    0.032535\n",
      "PLMAlign            0.050337\n",
      "PLMAlign-global     0.076343\n",
      "Smith-Waterman      0.041353\n",
      "pLM-BLAST           0.047678\n",
      "pLM-BLAST-global    0.058616\n",
      "Name: precision, dtype: float64\n"
     ]
    }
   ],
   "source": [
    "print(data.groupby(['tool']).mean()['precision'])"
   ]
  },
  {
   "cell_type": "code",
   "execution_count": 26,
   "metadata": {},
   "outputs": [
    {
     "name": "stdout",
     "output_type": "stream",
     "text": [
      "tool\n",
      "BLAST               0.000000\n",
      "HMMER               0.000000\n",
      "Needleman-Wunsch    0.003834\n",
      "PLMAlign            0.009392\n",
      "PLMAlign-global     0.007876\n",
      "Smith-Waterman      0.004895\n",
      "pLM-BLAST           0.012597\n",
      "pLM-BLAST-global    0.007864\n",
      "Name: precision, dtype: float64\n"
     ]
    }
   ],
   "source": [
    "print(data.groupby(['tool']).agg(sem)['precision'])"
   ]
  }
 ],
 "metadata": {
  "kernelspec": {
   "display_name": "Python 3 (ipykernel)",
   "language": "python",
   "name": "python3"
  },
  "language_info": {
   "codemirror_mode": {
    "name": "ipython",
    "version": 3
   },
   "file_extension": ".py",
   "mimetype": "text/x-python",
   "name": "python",
   "nbconvert_exporter": "python",
   "pygments_lexer": "ipython3",
   "version": "3.9.16"
  },
  "toc": {
   "base_numbering": 1,
   "nav_menu": {},
   "number_sections": true,
   "sideBar": true,
   "skip_h1_title": false,
   "title_cell": "Table of Contents",
   "title_sidebar": "Contents",
   "toc_cell": true,
   "toc_position": {},
   "toc_section_display": true,
   "toc_window_display": false
  }
 },
 "nbformat": 4,
 "nbformat_minor": 4
}
